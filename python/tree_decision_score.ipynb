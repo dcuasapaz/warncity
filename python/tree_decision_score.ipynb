{
 "cells": [
  {
   "cell_type": "code",
   "execution_count": 1,
   "id": "ca5e7e42-f20a-4841-bbac-4cfcfe64936d",
   "metadata": {},
   "outputs": [],
   "source": [
    "import pandas as pd"
   ]
  },
  {
   "cell_type": "code",
   "execution_count": 2,
   "id": "fdaecdf2-05ea-4d1f-8d6f-dfb265ff2436",
   "metadata": {},
   "outputs": [],
   "source": [
    "import numpy as np"
   ]
  },
  {
   "cell_type": "code",
   "execution_count": 3,
   "id": "de5df34f-de93-4f37-8ec5-cdb72aa64e0d",
   "metadata": {},
   "outputs": [],
   "source": [
    "from sklearn.tree import DecisionTreeClassifier"
   ]
  },
  {
   "cell_type": "code",
   "execution_count": 4,
   "id": "82a9bd55-6859-44d6-a21d-ddb5414b1836",
   "metadata": {},
   "outputs": [],
   "source": [
    "from sklearn.model_selection import train_test_split"
   ]
  },
  {
   "cell_type": "code",
   "execution_count": 5,
   "id": "3ac37cce-69b5-42f4-9b5d-c570120d053b",
   "metadata": {},
   "outputs": [],
   "source": [
    "from sklearn.metrics import accuracy_score"
   ]
  },
  {
   "cell_type": "code",
   "execution_count": 6,
   "id": "f20fdc81-5c9d-47a3-a891-ff6bfa7f4882",
   "metadata": {},
   "outputs": [],
   "source": [
    "from sklearn.model_selection import train_test_split"
   ]
  },
  {
   "cell_type": "code",
   "execution_count": 7,
   "id": "6548ca23-5d8e-4ea4-a2a4-7cb77bf8da08",
   "metadata": {},
   "outputs": [],
   "source": [
    "from sklearn import tree"
   ]
  },
  {
   "cell_type": "code",
   "execution_count": 8,
   "id": "1541648e-e07a-4e50-8a01-4a903335b46d",
   "metadata": {},
   "outputs": [],
   "source": [
    "balance_data=pd.read_csv('../data/data_2.csv', sep=',',header=0)"
   ]
  },
  {
   "cell_type": "code",
   "execution_count": 9,
   "id": "2482dc35-1583-4a8c-8164-67d65456ccff",
   "metadata": {},
   "outputs": [
    {
     "name": "stdout",
     "output_type": "stream",
     "text": [
      "<class 'pandas.core.frame.DataFrame'>\n",
      "RangeIndex: 1000 entries, 0 to 999\n",
      "Data columns (total 6 columns):\n",
      " #   Column           Non-Null Count  Dtype \n",
      "---  ------           --------------  ----- \n",
      " 0   Initial payment  1000 non-null   int64 \n",
      " 1   Last payment     1000 non-null   int64 \n",
      " 2   Credit score     1000 non-null   int64 \n",
      " 3   House Number     1000 non-null   int64 \n",
      " 4   Total            1000 non-null   int64 \n",
      " 5   Result           1000 non-null   object\n",
      "dtypes: int64(5), object(1)\n",
      "memory usage: 47.0+ KB\n"
     ]
    }
   ],
   "source": [
    "balance_data.info(verbose=True)"
   ]
  },
  {
   "cell_type": "code",
   "execution_count": 10,
   "id": "5ec1c823-e64a-4e95-9b90-ec29040902d0",
   "metadata": {},
   "outputs": [
    {
     "name": "stdout",
     "output_type": "stream",
     "text": [
      "Dataset length :: 1000\n"
     ]
    }
   ],
   "source": [
    "print('Dataset length ::', len(balance_data))\n"
   ]
  },
  {
   "cell_type": "code",
   "execution_count": 11,
   "id": "285f6595-4ced-4974-88a9-6950c2fa6a92",
   "metadata": {},
   "outputs": [
    {
     "name": "stdout",
     "output_type": "stream",
     "text": [
      "Dataset shape :: (1000, 6)\n"
     ]
    }
   ],
   "source": [
    "print('Dataset shape ::', balance_data.shape)"
   ]
  },
  {
   "cell_type": "code",
   "execution_count": 12,
   "id": "30aee60e-27f3-4bf1-887e-c1d0fc256adc",
   "metadata": {},
   "outputs": [
    {
     "name": "stdout",
     "output_type": "stream",
     "text": [
      "Dataset::\n"
     ]
    },
    {
     "data": {
      "text/html": [
       "<div>\n",
       "<style scoped>\n",
       "    .dataframe tbody tr th:only-of-type {\n",
       "        vertical-align: middle;\n",
       "    }\n",
       "\n",
       "    .dataframe tbody tr th {\n",
       "        vertical-align: top;\n",
       "    }\n",
       "\n",
       "    .dataframe thead th {\n",
       "        text-align: right;\n",
       "    }\n",
       "</style>\n",
       "<table border=\"1\" class=\"dataframe\">\n",
       "  <thead>\n",
       "    <tr style=\"text-align: right;\">\n",
       "      <th></th>\n",
       "      <th>Initial payment</th>\n",
       "      <th>Last payment</th>\n",
       "      <th>Credit score</th>\n",
       "      <th>House Number</th>\n",
       "      <th>Total</th>\n",
       "      <th>Result</th>\n",
       "    </tr>\n",
       "  </thead>\n",
       "  <tbody>\n",
       "    <tr>\n",
       "      <th>0</th>\n",
       "      <td>201</td>\n",
       "      <td>10018</td>\n",
       "      <td>250</td>\n",
       "      <td>3046</td>\n",
       "      <td>13515</td>\n",
       "      <td>yes</td>\n",
       "    </tr>\n",
       "    <tr>\n",
       "      <th>1</th>\n",
       "      <td>205</td>\n",
       "      <td>10016</td>\n",
       "      <td>395</td>\n",
       "      <td>3044</td>\n",
       "      <td>13660</td>\n",
       "      <td>yes</td>\n",
       "    </tr>\n",
       "    <tr>\n",
       "      <th>2</th>\n",
       "      <td>257</td>\n",
       "      <td>10129</td>\n",
       "      <td>109</td>\n",
       "      <td>3251</td>\n",
       "      <td>13746</td>\n",
       "      <td>yes</td>\n",
       "    </tr>\n",
       "    <tr>\n",
       "      <th>3</th>\n",
       "      <td>246</td>\n",
       "      <td>10064</td>\n",
       "      <td>324</td>\n",
       "      <td>3137</td>\n",
       "      <td>13771</td>\n",
       "      <td>yes</td>\n",
       "    </tr>\n",
       "    <tr>\n",
       "      <th>4</th>\n",
       "      <td>117</td>\n",
       "      <td>10115</td>\n",
       "      <td>496</td>\n",
       "      <td>3094</td>\n",
       "      <td>13822</td>\n",
       "      <td>yes</td>\n",
       "    </tr>\n",
       "  </tbody>\n",
       "</table>\n",
       "</div>"
      ],
      "text/plain": [
       "   Initial payment  Last payment  Credit score  House Number  Total Result\n",
       "0              201         10018           250          3046  13515    yes\n",
       "1              205         10016           395          3044  13660    yes\n",
       "2              257         10129           109          3251  13746    yes\n",
       "3              246         10064           324          3137  13771    yes\n",
       "4              117         10115           496          3094  13822    yes"
      ]
     },
     "execution_count": 12,
     "metadata": {},
     "output_type": "execute_result"
    }
   ],
   "source": [
    "print('Dataset::')\n",
    "balance_data.head()"
   ]
  },
  {
   "cell_type": "code",
   "execution_count": 13,
   "id": "5e51b897-0ed8-4b7b-a97c-b7671d564dd0",
   "metadata": {},
   "outputs": [
    {
     "data": {
      "text/plain": [
       "Index(['Initial payment', 'Last payment', 'Credit score', 'House Number',\n",
       "       'Total', 'Result'],\n",
       "      dtype='object')"
      ]
     },
     "execution_count": 13,
     "metadata": {},
     "output_type": "execute_result"
    }
   ],
   "source": [
    "balance_data.columns"
   ]
  },
  {
   "cell_type": "code",
   "execution_count": 14,
   "id": "e924f1fb-5697-45ec-b394-a8c639036a2a",
   "metadata": {},
   "outputs": [],
   "source": [
    "df=balance_data[['Result','Initial payment','Last payment','Credit score','House Number']]\n",
    "#df=balance_data[balance_data.columns[5]]"
   ]
  },
  {
   "cell_type": "code",
   "execution_count": 15,
   "id": "8785477f-c5b2-4d4c-8922-96f2c916a727",
   "metadata": {},
   "outputs": [
    {
     "name": "stdout",
     "output_type": "stream",
     "text": [
      "Dataset shape :: (1000, 5)\n"
     ]
    }
   ],
   "source": [
    "print('Dataset shape ::', df.shape)"
   ]
  },
  {
   "cell_type": "code",
   "execution_count": 16,
   "id": "ef450b23-0c73-463a-b41f-8d514de25085",
   "metadata": {},
   "outputs": [
    {
     "name": "stdout",
     "output_type": "stream",
     "text": [
      "Dataset::\n"
     ]
    },
    {
     "data": {
      "text/html": [
       "<div>\n",
       "<style scoped>\n",
       "    .dataframe tbody tr th:only-of-type {\n",
       "        vertical-align: middle;\n",
       "    }\n",
       "\n",
       "    .dataframe tbody tr th {\n",
       "        vertical-align: top;\n",
       "    }\n",
       "\n",
       "    .dataframe thead th {\n",
       "        text-align: right;\n",
       "    }\n",
       "</style>\n",
       "<table border=\"1\" class=\"dataframe\">\n",
       "  <thead>\n",
       "    <tr style=\"text-align: right;\">\n",
       "      <th></th>\n",
       "      <th>Result</th>\n",
       "      <th>Initial payment</th>\n",
       "      <th>Last payment</th>\n",
       "      <th>Credit score</th>\n",
       "      <th>House Number</th>\n",
       "    </tr>\n",
       "  </thead>\n",
       "  <tbody>\n",
       "    <tr>\n",
       "      <th>0</th>\n",
       "      <td>yes</td>\n",
       "      <td>201</td>\n",
       "      <td>10018</td>\n",
       "      <td>250</td>\n",
       "      <td>3046</td>\n",
       "    </tr>\n",
       "    <tr>\n",
       "      <th>1</th>\n",
       "      <td>yes</td>\n",
       "      <td>205</td>\n",
       "      <td>10016</td>\n",
       "      <td>395</td>\n",
       "      <td>3044</td>\n",
       "    </tr>\n",
       "    <tr>\n",
       "      <th>2</th>\n",
       "      <td>yes</td>\n",
       "      <td>257</td>\n",
       "      <td>10129</td>\n",
       "      <td>109</td>\n",
       "      <td>3251</td>\n",
       "    </tr>\n",
       "    <tr>\n",
       "      <th>3</th>\n",
       "      <td>yes</td>\n",
       "      <td>246</td>\n",
       "      <td>10064</td>\n",
       "      <td>324</td>\n",
       "      <td>3137</td>\n",
       "    </tr>\n",
       "    <tr>\n",
       "      <th>4</th>\n",
       "      <td>yes</td>\n",
       "      <td>117</td>\n",
       "      <td>10115</td>\n",
       "      <td>496</td>\n",
       "      <td>3094</td>\n",
       "    </tr>\n",
       "  </tbody>\n",
       "</table>\n",
       "</div>"
      ],
      "text/plain": [
       "  Result  Initial payment  Last payment  Credit score  House Number\n",
       "0    yes              201         10018           250          3046\n",
       "1    yes              205         10016           395          3044\n",
       "2    yes              257         10129           109          3251\n",
       "3    yes              246         10064           324          3137\n",
       "4    yes              117         10115           496          3094"
      ]
     },
     "execution_count": 16,
     "metadata": {},
     "output_type": "execute_result"
    }
   ],
   "source": [
    "print('Dataset::')\n",
    "df.head()"
   ]
  },
  {
   "cell_type": "code",
   "execution_count": 17,
   "id": "bb631616-65c0-45d0-8abf-25bea406a81e",
   "metadata": {},
   "outputs": [
    {
     "data": {
      "text/html": [
       "<style>#sk-container-id-1 {color: black;}#sk-container-id-1 pre{padding: 0;}#sk-container-id-1 div.sk-toggleable {background-color: white;}#sk-container-id-1 label.sk-toggleable__label {cursor: pointer;display: block;width: 100%;margin-bottom: 0;padding: 0.3em;box-sizing: border-box;text-align: center;}#sk-container-id-1 label.sk-toggleable__label-arrow:before {content: \"▸\";float: left;margin-right: 0.25em;color: #696969;}#sk-container-id-1 label.sk-toggleable__label-arrow:hover:before {color: black;}#sk-container-id-1 div.sk-estimator:hover label.sk-toggleable__label-arrow:before {color: black;}#sk-container-id-1 div.sk-toggleable__content {max-height: 0;max-width: 0;overflow: hidden;text-align: left;background-color: #f0f8ff;}#sk-container-id-1 div.sk-toggleable__content pre {margin: 0.2em;color: black;border-radius: 0.25em;background-color: #f0f8ff;}#sk-container-id-1 input.sk-toggleable__control:checked~div.sk-toggleable__content {max-height: 200px;max-width: 100%;overflow: auto;}#sk-container-id-1 input.sk-toggleable__control:checked~label.sk-toggleable__label-arrow:before {content: \"▾\";}#sk-container-id-1 div.sk-estimator input.sk-toggleable__control:checked~label.sk-toggleable__label {background-color: #d4ebff;}#sk-container-id-1 div.sk-label input.sk-toggleable__control:checked~label.sk-toggleable__label {background-color: #d4ebff;}#sk-container-id-1 input.sk-hidden--visually {border: 0;clip: rect(1px 1px 1px 1px);clip: rect(1px, 1px, 1px, 1px);height: 1px;margin: -1px;overflow: hidden;padding: 0;position: absolute;width: 1px;}#sk-container-id-1 div.sk-estimator {font-family: monospace;background-color: #f0f8ff;border: 1px dotted black;border-radius: 0.25em;box-sizing: border-box;margin-bottom: 0.5em;}#sk-container-id-1 div.sk-estimator:hover {background-color: #d4ebff;}#sk-container-id-1 div.sk-parallel-item::after {content: \"\";width: 100%;border-bottom: 1px solid gray;flex-grow: 1;}#sk-container-id-1 div.sk-label:hover label.sk-toggleable__label {background-color: #d4ebff;}#sk-container-id-1 div.sk-serial::before {content: \"\";position: absolute;border-left: 1px solid gray;box-sizing: border-box;top: 0;bottom: 0;left: 50%;z-index: 0;}#sk-container-id-1 div.sk-serial {display: flex;flex-direction: column;align-items: center;background-color: white;padding-right: 0.2em;padding-left: 0.2em;position: relative;}#sk-container-id-1 div.sk-item {position: relative;z-index: 1;}#sk-container-id-1 div.sk-parallel {display: flex;align-items: stretch;justify-content: center;background-color: white;position: relative;}#sk-container-id-1 div.sk-item::before, #sk-container-id-1 div.sk-parallel-item::before {content: \"\";position: absolute;border-left: 1px solid gray;box-sizing: border-box;top: 0;bottom: 0;left: 50%;z-index: -1;}#sk-container-id-1 div.sk-parallel-item {display: flex;flex-direction: column;z-index: 1;position: relative;background-color: white;}#sk-container-id-1 div.sk-parallel-item:first-child::after {align-self: flex-end;width: 50%;}#sk-container-id-1 div.sk-parallel-item:last-child::after {align-self: flex-start;width: 50%;}#sk-container-id-1 div.sk-parallel-item:only-child::after {width: 0;}#sk-container-id-1 div.sk-dashed-wrapped {border: 1px dashed gray;margin: 0 0.4em 0.5em 0.4em;box-sizing: border-box;padding-bottom: 0.4em;background-color: white;}#sk-container-id-1 div.sk-label label {font-family: monospace;font-weight: bold;display: inline-block;line-height: 1.2em;}#sk-container-id-1 div.sk-label-container {text-align: center;}#sk-container-id-1 div.sk-container {/* jupyter's `normalize.less` sets `[hidden] { display: none; }` but bootstrap.min.css set `[hidden] { display: none !important; }` so we also need the `!important` here to be able to override the default hidden behavior on the sphinx rendered scikit-learn.org. See: https://github.com/scikit-learn/scikit-learn/issues/21755 */display: inline-block !important;position: relative;}#sk-container-id-1 div.sk-text-repr-fallback {display: none;}</style><div id=\"sk-container-id-1\" class=\"sk-top-container\"><div class=\"sk-text-repr-fallback\"><pre>DecisionTreeClassifier(criterion=&#x27;entropy&#x27;, max_depth=3, min_samples_leaf=5,\n",
       "                       random_state=100)</pre><b>In a Jupyter environment, please rerun this cell to show the HTML representation or trust the notebook. <br />On GitHub, the HTML representation is unable to render, please try loading this page with nbviewer.org.</b></div><div class=\"sk-container\" hidden><div class=\"sk-item\"><div class=\"sk-estimator sk-toggleable\"><input class=\"sk-toggleable__control sk-hidden--visually\" id=\"sk-estimator-id-1\" type=\"checkbox\" checked><label for=\"sk-estimator-id-1\" class=\"sk-toggleable__label sk-toggleable__label-arrow\">DecisionTreeClassifier</label><div class=\"sk-toggleable__content\"><pre>DecisionTreeClassifier(criterion=&#x27;entropy&#x27;, max_depth=3, min_samples_leaf=5,\n",
       "                       random_state=100)</pre></div></div></div></div></div>"
      ],
      "text/plain": [
       "DecisionTreeClassifier(criterion='entropy', max_depth=3, min_samples_leaf=5,\n",
       "                       random_state=100)"
      ]
     },
     "execution_count": 17,
     "metadata": {},
     "output_type": "execute_result"
    }
   ],
   "source": [
    "X=df.values[:, 1:5]\n",
    "Y=df.values[:, 0]\n",
    "X_train, X_test, Y_train, Y_test = train_test_split(X, Y, test_size = 0.3, random_state = 100)\n",
    "clf_entrpy = DecisionTreeClassifier(criterion = \"entropy\", random_state = 100, max_depth = 3, min_samples_leaf=5)\n",
    "clf_entrpy.fit(X_train,Y_train)"
   ]
  },
  {
   "cell_type": "code",
   "execution_count": 18,
   "id": "f352943b-e328-45a8-9891-c8cfa8d1928b",
   "metadata": {},
   "outputs": [
    {
     "name": "stdout",
     "output_type": "stream",
     "text": [
      "['yes' 'yes' 'No' 'yes' 'No' 'yes' 'yes' 'yes' 'No' 'No' 'No' 'No' 'yes'\n",
      " 'No' 'No' 'yes' 'yes' 'No' 'yes' 'No' 'No' 'yes' 'No' 'yes' 'yes' 'No'\n",
      " 'No' 'yes' 'No' 'No' 'No' 'yes' 'yes' 'yes' 'yes' 'No' 'No' 'No' 'yes'\n",
      " 'No' 'yes' 'yes' 'yes' 'No' 'No' 'yes' 'yes' 'yes' 'No' 'No' 'yes' 'No'\n",
      " 'yes' 'yes' 'yes' 'yes' 'No' 'yes' 'No' 'yes' 'yes' 'No' 'yes' 'yes' 'No'\n",
      " 'yes' 'yes' 'yes' 'No' 'No' 'No' 'No' 'No' 'yes' 'No' 'yes' 'yes' 'No'\n",
      " 'yes' 'No' 'No' 'No' 'No' 'yes' 'No' 'yes' 'No' 'yes' 'yes' 'No' 'yes'\n",
      " 'yes' 'yes' 'yes' 'yes' 'No' 'yes' 'yes' 'yes' 'yes' 'No' 'No' 'yes'\n",
      " 'yes' 'No' 'yes' 'yes' 'yes' 'No' 'yes' 'yes' 'yes' 'yes' 'No' 'No' 'yes'\n",
      " 'yes' 'yes' 'No' 'No' 'No' 'No' 'yes' 'yes' 'No' 'yes' 'yes' 'yes' 'No'\n",
      " 'No' 'yes' 'yes' 'No' 'yes' 'yes' 'yes' 'No' 'yes' 'yes' 'No' 'No' 'yes'\n",
      " 'yes' 'yes' 'No' 'yes' 'yes' 'yes' 'yes' 'No' 'yes' 'No' 'No' 'No' 'No'\n",
      " 'yes' 'No' 'No' 'No' 'yes' 'yes' 'No' 'yes' 'yes' 'No' 'yes' 'No' 'yes'\n",
      " 'No' 'No' 'yes' 'yes' 'No' 'yes' 'No' 'yes' 'yes' 'No' 'No' 'No' 'No'\n",
      " 'No' 'yes' 'No' 'No' 'yes' 'yes' 'yes' 'yes' 'yes' 'No' 'yes' 'No' 'yes'\n",
      " 'No' 'No' 'No' 'yes' 'yes' 'No' 'No' 'No' 'yes' 'yes' 'No' 'No' 'yes'\n",
      " 'yes' 'No' 'No' 'yes' 'yes' 'yes' 'yes' 'yes' 'yes' 'yes' 'yes' 'yes'\n",
      " 'No' 'yes' 'yes' 'No' 'No' 'yes' 'No' 'yes' 'yes' 'No' 'No' 'yes' 'No'\n",
      " 'yes' 'yes' 'yes' 'yes' 'No' 'No' 'No' 'No' 'yes' 'yes' 'No' 'yes' 'yes'\n",
      " 'No' 'yes' 'No' 'No' 'No' 'No' 'yes' 'No' 'No' 'No' 'No' 'No' 'No' 'No'\n",
      " 'yes' 'yes' 'yes' 'yes' 'yes' 'yes' 'No' 'No' 'No' 'No' 'yes' 'No' 'yes'\n",
      " 'yes' 'yes' 'No' 'No' 'No' 'No' 'yes' 'No' 'yes' 'No' 'No' 'No' 'yes'\n",
      " 'yes' 'No' 'yes' 'yes' 'yes' 'No' 'No' 'yes' 'No' 'yes' 'yes' 'No' 'No'\n",
      " 'yes' 'yes']\n"
     ]
    }
   ],
   "source": [
    "y_pred_en=clf_entrpy.predict(X_test)\n",
    "print(y_pred_en)"
   ]
  },
  {
   "cell_type": "code",
   "execution_count": 19,
   "id": "6ca7219c-df54-4c3b-9e07-4eb884411106",
   "metadata": {},
   "outputs": [
    {
     "name": "stdout",
     "output_type": "stream",
     "text": [
      "Accuracy is \n"
     ]
    },
    {
     "data": {
      "text/plain": [
       "(None, 93.66666666666667)"
      ]
     },
     "execution_count": 19,
     "metadata": {},
     "output_type": "execute_result"
    }
   ],
   "source": [
    "print('Accuracy is '), accuracy_score(Y_test,y_pred_en)*100"
   ]
  },
  {
   "cell_type": "code",
   "execution_count": 20,
   "id": "adbbc7d7-9fc8-4766-85d1-49109b90b112",
   "metadata": {},
   "outputs": [],
   "source": [
    "from sklearn.metrics import confusion_matrix"
   ]
  },
  {
   "cell_type": "code",
   "execution_count": 21,
   "id": "90d666c2-b238-4353-92bc-8d04fcec2416",
   "metadata": {},
   "outputs": [
    {
     "data": {
      "text/plain": [
       "array([[134,  13],\n",
       "       [  6, 147]], dtype=int64)"
      ]
     },
     "execution_count": 21,
     "metadata": {},
     "output_type": "execute_result"
    }
   ],
   "source": [
    "confusion_matrix(Y_test,y_pred_en)"
   ]
  },
  {
   "cell_type": "code",
   "execution_count": 22,
   "id": "3ac127a8-4f59-40a8-9b0b-ecd4ab91ba9d",
   "metadata": {},
   "outputs": [
    {
     "data": {
      "text/plain": [
       "array([0.95714286, 0.92857143, 0.9       , 0.88571429, 0.97142857,\n",
       "       0.91428571, 0.91428571, 0.9       , 0.92857143, 0.94285714])"
      ]
     },
     "execution_count": 22,
     "metadata": {},
     "output_type": "execute_result"
    }
   ],
   "source": [
    "from sklearn.model_selection import cross_val_score\n",
    "cross_val_score(clf_entrpy,X_train,Y_train, cv=10)"
   ]
  },
  {
   "cell_type": "code",
   "execution_count": 23,
   "id": "e0ae20f7-c318-49f7-b02a-cb90b17264aa",
   "metadata": {},
   "outputs": [
    {
     "name": "stdout",
     "output_type": "stream",
     "text": [
      "              precision    recall  f1-score   support\n",
      "\n",
      "          No       0.91      0.96      0.93       140\n",
      "         yes       0.96      0.92      0.94       160\n",
      "\n",
      "    accuracy                           0.94       300\n",
      "   macro avg       0.94      0.94      0.94       300\n",
      "weighted avg       0.94      0.94      0.94       300\n",
      "\n"
     ]
    }
   ],
   "source": [
    "from sklearn.metrics import classification_report\n",
    "print(classification_report(y_pred_en,Y_test))"
   ]
  },
  {
   "cell_type": "code",
   "execution_count": null,
   "id": "bf35a3fe-f619-48d6-863d-431bc911814f",
   "metadata": {},
   "outputs": [],
   "source": []
  }
 ],
 "metadata": {
  "kernelspec": {
   "display_name": "Python 3 (ipykernel)",
   "language": "python",
   "name": "python3"
  },
  "language_info": {
   "codemirror_mode": {
    "name": "ipython",
    "version": 3
   },
   "file_extension": ".py",
   "mimetype": "text/x-python",
   "name": "python",
   "nbconvert_exporter": "python",
   "pygments_lexer": "ipython3",
   "version": "3.11.4"
  }
 },
 "nbformat": 4,
 "nbformat_minor": 5
}
