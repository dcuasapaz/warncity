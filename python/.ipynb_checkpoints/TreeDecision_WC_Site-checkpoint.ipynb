{
 "cells": [
  {
   "cell_type": "code",
   "execution_count": 245,
   "id": "cf9f4d5b-10ce-4830-80f5-5f1f6278bfa9",
   "metadata": {
    "tags": []
   },
   "outputs": [
    {
     "data": {
      "text/html": [
       "<div>\n",
       "<style scoped>\n",
       "    .dataframe tbody tr th:only-of-type {\n",
       "        vertical-align: middle;\n",
       "    }\n",
       "\n",
       "    .dataframe tbody tr th {\n",
       "        vertical-align: top;\n",
       "    }\n",
       "\n",
       "    .dataframe thead th {\n",
       "        text-align: right;\n",
       "    }\n",
       "</style>\n",
       "<table border=\"1\" class=\"dataframe\">\n",
       "  <thead>\n",
       "    <tr style=\"text-align: right;\">\n",
       "      <th></th>\n",
       "      <th>i_no_value</th>\n",
       "      <th>i_value</th>\n",
       "      <th>i_ste_cde</th>\n",
       "      <th>i_yr</th>\n",
       "      <th>i_ttl_ing_eje_1</th>\n",
       "      <th>i_ttl_ing_eje_2</th>\n",
       "      <th>i_ttl_ing_eje_3</th>\n",
       "      <th>i_ttl_ing_eje_4</th>\n",
       "      <th>i_ttl_ing_eje_5</th>\n",
       "      <th>i_ttl_ing_eje_6</th>\n",
       "      <th>i_ttl_ing_eje_7</th>\n",
       "      <th>i_ttl_ind_ing</th>\n",
       "      <th>i_ttl_ind</th>\n",
       "      <th>r_tsa_ind_ing</th>\n",
       "      <th>i_eje_id</th>\n",
       "      <th>i_ttl_ind.1</th>\n",
       "    </tr>\n",
       "  </thead>\n",
       "  <tbody>\n",
       "    <tr>\n",
       "      <th>0</th>\n",
       "      <td>1</td>\n",
       "      <td>1</td>\n",
       "      <td>1701010001</td>\n",
       "      <td>2021</td>\n",
       "      <td>4</td>\n",
       "      <td>15</td>\n",
       "      <td>5</td>\n",
       "      <td>2</td>\n",
       "      <td>9</td>\n",
       "      <td>1</td>\n",
       "      <td>1</td>\n",
       "      <td>37</td>\n",
       "      <td>66</td>\n",
       "      <td>56.06</td>\n",
       "      <td>5</td>\n",
       "      <td>9</td>\n",
       "    </tr>\n",
       "    <tr>\n",
       "      <th>1</th>\n",
       "      <td>2</td>\n",
       "      <td>2</td>\n",
       "      <td>1701010001</td>\n",
       "      <td>2022</td>\n",
       "      <td>14</td>\n",
       "      <td>12</td>\n",
       "      <td>7</td>\n",
       "      <td>3</td>\n",
       "      <td>1</td>\n",
       "      <td>4</td>\n",
       "      <td>4</td>\n",
       "      <td>45</td>\n",
       "      <td>66</td>\n",
       "      <td>68.18</td>\n",
       "      <td>2</td>\n",
       "      <td>17</td>\n",
       "    </tr>\n",
       "    <tr>\n",
       "      <th>2</th>\n",
       "      <td>3</td>\n",
       "      <td>1</td>\n",
       "      <td>1701010001</td>\n",
       "      <td>2022</td>\n",
       "      <td>11</td>\n",
       "      <td>6</td>\n",
       "      <td>3</td>\n",
       "      <td>3</td>\n",
       "      <td>6</td>\n",
       "      <td>4</td>\n",
       "      <td>3</td>\n",
       "      <td>36</td>\n",
       "      <td>66</td>\n",
       "      <td>54.55</td>\n",
       "      <td>5</td>\n",
       "      <td>9</td>\n",
       "    </tr>\n",
       "    <tr>\n",
       "      <th>3</th>\n",
       "      <td>4</td>\n",
       "      <td>2</td>\n",
       "      <td>1701010001</td>\n",
       "      <td>2022</td>\n",
       "      <td>14</td>\n",
       "      <td>11</td>\n",
       "      <td>4</td>\n",
       "      <td>3</td>\n",
       "      <td>2</td>\n",
       "      <td>4</td>\n",
       "      <td>3</td>\n",
       "      <td>41</td>\n",
       "      <td>66</td>\n",
       "      <td>62.12</td>\n",
       "      <td>7</td>\n",
       "      <td>4</td>\n",
       "    </tr>\n",
       "    <tr>\n",
       "      <th>4</th>\n",
       "      <td>5</td>\n",
       "      <td>1</td>\n",
       "      <td>1701010001</td>\n",
       "      <td>2022</td>\n",
       "      <td>19</td>\n",
       "      <td>3</td>\n",
       "      <td>1</td>\n",
       "      <td>1</td>\n",
       "      <td>5</td>\n",
       "      <td>4</td>\n",
       "      <td>4</td>\n",
       "      <td>37</td>\n",
       "      <td>66</td>\n",
       "      <td>56.06</td>\n",
       "      <td>4</td>\n",
       "      <td>3</td>\n",
       "    </tr>\n",
       "  </tbody>\n",
       "</table>\n",
       "</div>"
      ],
      "text/plain": [
       "   i_no_value  i_value   i_ste_cde  i_yr  i_ttl_ing_eje_1  i_ttl_ing_eje_2  \\\n",
       "0           1        1  1701010001  2021                4               15   \n",
       "1           2        2  1701010001  2022               14               12   \n",
       "2           3        1  1701010001  2022               11                6   \n",
       "3           4        2  1701010001  2022               14               11   \n",
       "4           5        1  1701010001  2022               19                3   \n",
       "\n",
       "   i_ttl_ing_eje_3  i_ttl_ing_eje_4  i_ttl_ing_eje_5  i_ttl_ing_eje_6  \\\n",
       "0                5                2                9                1   \n",
       "1                7                3                1                4   \n",
       "2                3                3                6                4   \n",
       "3                4                3                2                4   \n",
       "4                1                1                5                4   \n",
       "\n",
       "   i_ttl_ing_eje_7  i_ttl_ind_ing  i_ttl_ind  r_tsa_ind_ing  i_eje_id  \\\n",
       "0                1             37         66          56.06         5   \n",
       "1                4             45         66          68.18         2   \n",
       "2                3             36         66          54.55         5   \n",
       "3                3             41         66          62.12         7   \n",
       "4                4             37         66          56.06         4   \n",
       "\n",
       "   i_ttl_ind.1  \n",
       "0            9  \n",
       "1           17  \n",
       "2            9  \n",
       "3            4  \n",
       "4            3  "
      ]
     },
     "execution_count": 245,
     "metadata": {},
     "output_type": "execute_result"
    }
   ],
   "source": [
    "import pandas as pd\n",
    "df=pd.read_csv('../data/municipios.csv', sep=',',header=0)\n",
    "df.head()"
   ]
  },
  {
   "cell_type": "code",
   "execution_count": 246,
   "id": "9736feff-23fd-4c34-81c1-3843c75360d2",
   "metadata": {
    "tags": []
   },
   "outputs": [
    {
     "name": "stdout",
     "output_type": "stream",
     "text": [
      "<class 'pandas.core.frame.DataFrame'>\n",
      "RangeIndex: 132731 entries, 0 to 132730\n",
      "Data columns (total 16 columns):\n",
      " #   Column           Non-Null Count   Dtype  \n",
      "---  ------           --------------   -----  \n",
      " 0   i_no_value       132731 non-null  int64  \n",
      " 1   i_value          132731 non-null  int64  \n",
      " 2   i_ste_cde        132731 non-null  int64  \n",
      " 3   i_yr             132731 non-null  int64  \n",
      " 4   i_ttl_ing_eje_1  132731 non-null  int64  \n",
      " 5   i_ttl_ing_eje_2  132731 non-null  int64  \n",
      " 6   i_ttl_ing_eje_3  132731 non-null  int64  \n",
      " 7   i_ttl_ing_eje_4  132731 non-null  int64  \n",
      " 8   i_ttl_ing_eje_5  132731 non-null  int64  \n",
      " 9   i_ttl_ing_eje_6  132731 non-null  int64  \n",
      " 10  i_ttl_ing_eje_7  132731 non-null  int64  \n",
      " 11  i_ttl_ind_ing    132731 non-null  int64  \n",
      " 12  i_ttl_ind        132731 non-null  int64  \n",
      " 13  r_tsa_ind_ing    132731 non-null  float64\n",
      " 14  i_eje_id         132731 non-null  int64  \n",
      " 15  i_ttl_ind.1      132731 non-null  int64  \n",
      "dtypes: float64(1), int64(15)\n",
      "memory usage: 16.2 MB\n"
     ]
    }
   ],
   "source": [
    "df.info()"
   ]
  },
  {
   "cell_type": "code",
   "execution_count": 247,
   "id": "18555d77-5b10-460b-b005-2b3c454ad27b",
   "metadata": {
    "tags": []
   },
   "outputs": [
    {
     "name": "stdout",
     "output_type": "stream",
     "text": [
      "Dataset shape :: (132731, 16)\n"
     ]
    }
   ],
   "source": [
    "print('Dataset shape ::', df.shape)"
   ]
  },
  {
   "cell_type": "code",
   "execution_count": 248,
   "id": "35b8c7ec-3135-45b0-a0ca-031393c4ec91",
   "metadata": {
    "tags": []
   },
   "outputs": [
    {
     "name": "stdout",
     "output_type": "stream",
     "text": [
      "Dataset shape :: (20000, 16)\n"
     ]
    }
   ],
   "source": [
    "# Filtrando por sitio\n",
    "vSitio=1701010001\n",
    "df = df[(df['i_ste_cde'] == vSitio)]\n",
    "print('Dataset shape ::', df.shape)"
   ]
  },
  {
   "cell_type": "code",
   "execution_count": 249,
   "id": "fefd4de0-50eb-4853-a339-30cf1d984ba1",
   "metadata": {
    "tags": []
   },
   "outputs": [
    {
     "data": {
      "text/plain": [
       "Index(['i_no_value', 'i_value', 'i_ste_cde', 'i_yr', 'i_ttl_ing_eje_1',\n",
       "       'i_ttl_ing_eje_2', 'i_ttl_ing_eje_3', 'i_ttl_ing_eje_4',\n",
       "       'i_ttl_ing_eje_5', 'i_ttl_ing_eje_6', 'i_ttl_ing_eje_7',\n",
       "       'i_ttl_ind_ing', 'i_ttl_ind', 'r_tsa_ind_ing', 'i_eje_id',\n",
       "       'i_ttl_ind.1'],\n",
       "      dtype='object')"
      ]
     },
     "execution_count": 249,
     "metadata": {},
     "output_type": "execute_result"
    }
   ],
   "source": [
    "df.columns"
   ]
  },
  {
   "cell_type": "code",
   "execution_count": 250,
   "id": "5f61d702-1770-4198-9518-c50f3e0abba5",
   "metadata": {
    "tags": []
   },
   "outputs": [
    {
     "data": {
      "text/html": [
       "<div>\n",
       "<style scoped>\n",
       "    .dataframe tbody tr th:only-of-type {\n",
       "        vertical-align: middle;\n",
       "    }\n",
       "\n",
       "    .dataframe tbody tr th {\n",
       "        vertical-align: top;\n",
       "    }\n",
       "\n",
       "    .dataframe thead th {\n",
       "        text-align: right;\n",
       "    }\n",
       "</style>\n",
       "<table border=\"1\" class=\"dataframe\">\n",
       "  <thead>\n",
       "    <tr style=\"text-align: right;\">\n",
       "      <th></th>\n",
       "      <th>i_yr</th>\n",
       "      <th>i_ttl_ing_eje_1</th>\n",
       "      <th>i_ttl_ing_eje_2</th>\n",
       "      <th>i_ttl_ing_eje_3</th>\n",
       "      <th>i_ttl_ing_eje_4</th>\n",
       "      <th>i_ttl_ing_eje_5</th>\n",
       "      <th>i_ttl_ing_eje_6</th>\n",
       "      <th>i_ttl_ing_eje_7</th>\n",
       "    </tr>\n",
       "  </thead>\n",
       "  <tbody>\n",
       "    <tr>\n",
       "      <th>0</th>\n",
       "      <td>2021</td>\n",
       "      <td>4</td>\n",
       "      <td>15</td>\n",
       "      <td>5</td>\n",
       "      <td>2</td>\n",
       "      <td>9</td>\n",
       "      <td>1</td>\n",
       "      <td>1</td>\n",
       "    </tr>\n",
       "    <tr>\n",
       "      <th>1</th>\n",
       "      <td>2022</td>\n",
       "      <td>14</td>\n",
       "      <td>12</td>\n",
       "      <td>7</td>\n",
       "      <td>3</td>\n",
       "      <td>1</td>\n",
       "      <td>4</td>\n",
       "      <td>4</td>\n",
       "    </tr>\n",
       "    <tr>\n",
       "      <th>2</th>\n",
       "      <td>2022</td>\n",
       "      <td>11</td>\n",
       "      <td>6</td>\n",
       "      <td>3</td>\n",
       "      <td>3</td>\n",
       "      <td>6</td>\n",
       "      <td>4</td>\n",
       "      <td>3</td>\n",
       "    </tr>\n",
       "    <tr>\n",
       "      <th>3</th>\n",
       "      <td>2022</td>\n",
       "      <td>14</td>\n",
       "      <td>11</td>\n",
       "      <td>4</td>\n",
       "      <td>3</td>\n",
       "      <td>2</td>\n",
       "      <td>4</td>\n",
       "      <td>3</td>\n",
       "    </tr>\n",
       "    <tr>\n",
       "      <th>4</th>\n",
       "      <td>2022</td>\n",
       "      <td>19</td>\n",
       "      <td>3</td>\n",
       "      <td>1</td>\n",
       "      <td>1</td>\n",
       "      <td>5</td>\n",
       "      <td>4</td>\n",
       "      <td>4</td>\n",
       "    </tr>\n",
       "  </tbody>\n",
       "</table>\n",
       "</div>"
      ],
      "text/plain": [
       "   i_yr  i_ttl_ing_eje_1  i_ttl_ing_eje_2  i_ttl_ing_eje_3  i_ttl_ing_eje_4  \\\n",
       "0  2021                4               15                5                2   \n",
       "1  2022               14               12                7                3   \n",
       "2  2022               11                6                3                3   \n",
       "3  2022               14               11                4                3   \n",
       "4  2022               19                3                1                1   \n",
       "\n",
       "   i_ttl_ing_eje_5  i_ttl_ing_eje_6  i_ttl_ing_eje_7  \n",
       "0                9                1                1  \n",
       "1                1                4                4  \n",
       "2                6                4                3  \n",
       "3                2                4                3  \n",
       "4                5                4                4  "
      ]
     },
     "execution_count": 250,
     "metadata": {},
     "output_type": "execute_result"
    }
   ],
   "source": [
    "# Variables Predictoras\n",
    "X=df.iloc[:,3:11]\n",
    "X.head()"
   ]
  },
  {
   "cell_type": "code",
   "execution_count": 251,
   "id": "77257038-20f2-4eec-bb67-f51fbefb52f2",
   "metadata": {
    "tags": []
   },
   "outputs": [
    {
     "data": {
      "text/plain": [
       "0    1\n",
       "1    2\n",
       "2    1\n",
       "3    2\n",
       "4    1\n",
       "Name: i_value, dtype: int64"
      ]
     },
     "execution_count": 251,
     "metadata": {},
     "output_type": "execute_result"
    }
   ],
   "source": [
    "Y=df.iloc[:,1]\n",
    "Y.head()"
   ]
  },
  {
   "cell_type": "code",
   "execution_count": 253,
   "id": "8bb32db5-f342-4939-bd79-02fbea374a0d",
   "metadata": {
    "tags": []
   },
   "outputs": [
    {
     "name": "stdout",
     "output_type": "stream",
     "text": [
      "DecisionTreeClassifier()\n"
     ]
    }
   ],
   "source": [
    "from sklearn.tree import DecisionTreeClassifier\n",
    "from sklearn.model_selection import train_test_split\n",
    "X_train, X_test, Y_train, Y_test = train_test_split(X, Y, test_size = 0.75, random_state = 0)\n",
    "\n",
    "# Llamar al constructor del arbol de decision \n",
    "tree = DecisionTreeClassifier()\n",
    "\n",
    "# Entrenamos el modelo\n",
    "tree_site = tree.fit(X_train, Y_train)\n",
    "\n",
    "print(tree_site)"
   ]
  },
  {
   "cell_type": "code",
   "execution_count": 254,
   "id": "4215e13d-8ea9-4459-ab99-e9a92fe8686c",
   "metadata": {
    "tags": []
   },
   "outputs": [
    {
     "name": "stdout",
     "output_type": "stream",
     "text": [
      "[2 2 2 ... 1 1 0]\n"
     ]
    }
   ],
   "source": [
    "Y_pred=tree_site.predict(X_test)\n",
    "print(Y_pred)"
   ]
  },
  {
   "cell_type": "code",
   "execution_count": 255,
   "id": "1630c811-9b55-4a43-88f9-475d58153fd2",
   "metadata": {
    "tags": []
   },
   "outputs": [
    {
     "name": "stdout",
     "output_type": "stream",
     "text": [
      "[[ 539  216    0    0]\n",
      " [ 236 7260  609    0]\n",
      " [   0  747 5193   75]\n",
      " [   0    0   58   67]]\n"
     ]
    }
   ],
   "source": [
    "from sklearn.metrics import confusion_matrix\n",
    "matrix_confution=confusion_matrix(Y_test,Y_pred)\n",
    "print(confusion_matrix(Y_test,Y_pred))"
   ]
  },
  {
   "cell_type": "code",
   "execution_count": 256,
   "id": "341900c5-5176-41c9-801b-98705117f7dd",
   "metadata": {
    "tags": []
   },
   "outputs": [
    {
     "name": "stdout",
     "output_type": "stream",
     "text": [
      "0.8706\n"
     ]
    }
   ],
   "source": [
    "import numpy as np \n",
    "global_precition = np.sum(matrix_confution.diagonal())/np.sum(matrix_confution)\n",
    "print(global_precition)"
   ]
  },
  {
   "cell_type": "code",
   "execution_count": 257,
   "id": "a463f3eb-1cb7-4dbb-b7a9-988e6a35a8a6",
   "metadata": {
    "tags": []
   },
   "outputs": [
    {
     "name": "stdout",
     "output_type": "stream",
     "text": [
      "0.713907284768212\n"
     ]
    }
   ],
   "source": [
    "global_precition_class_0 = ((matrix_confution[0,0]))/sum(matrix_confution[0,])\n",
    "print(global_precition_class_0)"
   ]
  },
  {
   "cell_type": "code",
   "execution_count": 258,
   "id": "d6fdf7d6-e301-4cdd-b956-45702249bace",
   "metadata": {
    "tags": []
   },
   "outputs": [
    {
     "name": "stdout",
     "output_type": "stream",
     "text": [
      "0.8957433682911783\n"
     ]
    }
   ],
   "source": [
    "global_precition_class_1 = ((matrix_confution[1,1]))/sum(matrix_confution[1,])\n",
    "print(global_precition_class_1)"
   ]
  },
  {
   "cell_type": "code",
   "execution_count": 259,
   "id": "2c9a6e43-5f67-431e-8c2a-45ffa0254e66",
   "metadata": {
    "tags": []
   },
   "outputs": [
    {
     "name": "stdout",
     "output_type": "stream",
     "text": [
      "0.8633416458852868\n"
     ]
    }
   ],
   "source": [
    "global_precition_class_2 = ((matrix_confution[2,2]))/sum(matrix_confution[2,])\n",
    "print(global_precition_class_2)"
   ]
  },
  {
   "cell_type": "code",
   "execution_count": 260,
   "id": "6dceda5a-d238-4876-98ed-c1a47f5581f1",
   "metadata": {
    "tags": []
   },
   "outputs": [
    {
     "name": "stdout",
     "output_type": "stream",
     "text": [
      "0.536\n"
     ]
    }
   ],
   "source": [
    "global_precition_class_3 = ((matrix_confution[3,3]))/sum(matrix_confution[3,])\n",
    "print(global_precition_class_3)"
   ]
  },
  {
   "cell_type": "code",
   "execution_count": 261,
   "id": "edfe7f2e-3126-42eb-a82f-e762da32a22d",
   "metadata": {
    "tags": []
   },
   "outputs": [
    {
     "name": "stdout",
     "output_type": "stream",
     "text": [
      "El sitio 1701010001 es/esta INICIANDO para considerar visitar: [Rojo]\n"
     ]
    }
   ],
   "source": [
    "class Category:\n",
    "    def __init__(self, sitio,color,texto,option, value):\n",
    "        self.sitio = sitio\n",
    "        self.color = color\n",
    "        self.texto = texto\n",
    "        self.option = option\n",
    "        self.value = value\n",
    "\n",
    "list_values = [\n",
    "    Category(vSitio,'Gris','NO CALIFICADO',0, global_precition_class_0),\n",
    "    Category(vSitio,'Rojo','INICIANDO',1, global_precition_class_1),\n",
    "    Category(vSitio,'Amarillo','SATISFACTORIO',2, global_precition_class_2),\n",
    "    Category(vSitio,'Verde','OPTIMO',3, global_precition_class_3)\n",
    "]\n",
    "\n",
    "max_class = max(list_values, key=lambda category: category.value)\n",
    "print(\"El sitio {} es/esta {} en evaluación para considerar visitar: [{}]\".format(max_class.sitio,max_class.texto,max_class.color))\n"
   ]
  },
  {
   "cell_type": "code",
   "execution_count": null,
   "id": "06022846-9e5c-4749-889c-d7519b080cd1",
   "metadata": {},
   "outputs": [],
   "source": []
  }
 ],
 "metadata": {
  "kernelspec": {
   "display_name": "Python 3 (ipykernel)",
   "language": "python",
   "name": "python3"
  },
  "language_info": {
   "codemirror_mode": {
    "name": "ipython",
    "version": 3
   },
   "file_extension": ".py",
   "mimetype": "text/x-python",
   "name": "python",
   "nbconvert_exporter": "python",
   "pygments_lexer": "ipython3",
   "version": "3.11.4"
  }
 },
 "nbformat": 4,
 "nbformat_minor": 5
}
